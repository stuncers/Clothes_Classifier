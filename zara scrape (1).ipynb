{
 "cells": [
  {
   "cell_type": "code",
   "execution_count": 58,
   "id": "424b0bf1",
   "metadata": {},
   "outputs": [],
   "source": [
    "import warnings\n",
    "# Ignore all warnings\n",
    "warnings.filterwarnings(\"ignore\")\n",
    "from selenium import webdriver\n",
    "from selenium.webdriver.chrome.options import Options\n",
    "from webdriver_manager.chrome import ChromeDriverManager\n",
    "\n",
    "\n",
    "# Automatically download and set up chromedriver\n",
    "chrome_driver_path = ChromeDriverManager().install()\n",
    "\n",
    "# Create the ChromeDriver with the options\n",
    "driver = webdriver.Chrome(executable_path=chrome_driver_path, options=chrome_options)\n",
    "\n",
    "# URL of the website\n",
    "url = 'https://www.zara.com/tr/tr/origins-collection-l4661.html?v1=2297670'  # URL of one of the pages will be came from main page scrape\n",
    "\n",
    "# Open the URL in the browser\n",
    "driver.get(url)\n",
    "\n",
    "# Wait for the page to load (adjust the waiting time as needed)\n",
    "driver.implicitly_wait(10)\n",
    "\n",
    "# Get the full page source\n",
    "full_page_source = driver.page_source\n",
    "\n",
    "# Do your web scraping here\n",
    "\n",
    "# Close the browser\n",
    "driver.quit()\n"
   ]
  },
  {
   "cell_type": "code",
   "execution_count": 59,
   "id": "9f6dbe97",
   "metadata": {},
   "outputs": [
    {
     "name": "stdout",
     "output_type": "stream",
     "text": [
      "[{'prod_id': '286034110', 'name': '%100 KETEN KLASİK BLAZER', 'price': '3.399,00 TL', 'image_url': 'https://static.zara.net/stdstatic/5.0.0-b.1691055472619/images/transparent-background.png', 'prod_link': 'https://www.zara.com/tr/tr/100-keten-klasik-blazer-p01564102.html'}, {'prod_id': '286034109', 'name': '%100 KETEN KLASİK PANTOLON', 'price': '1.699,00 TL', 'image_url': 'https://static.zara.net/stdstatic/5.0.0-b.1691055472619/images/transparent-background.png', 'prod_link': 'https://www.zara.com/tr/tr/100-keten-klasik-pantolon-p01564103.html'}, {'prod_id': '286822125', 'name': 'CEPLİ CEKET', 'price': '1.999,00 TL', 'image_url': 'https://static.zara.net/stdstatic/5.0.0-b.1691055472619/images/transparent-background.png', 'prod_link': 'https://www.zara.com/tr/tr/cepli-ceket-p04164401.html'}, {'prod_id': '286034107', 'name': '%100 KETEN PİLİLİ PANTOLON', 'price': '1.699,00 TL', 'image_url': 'https://static.zara.net/stdstatic/5.0.0-b.1691055472619/images/transparent-background.png', 'prod_link': 'https://www.zara.com/tr/tr/100-keten-pilili-pantolon-p04164101.html'}, {'prod_id': '286034103', 'name': 'PAMUKLU TRİKO POLO T-SHIRT', 'price': '999,95 TL', 'image_url': 'https://static.zara.net/stdstatic/5.0.0-b.1691055472619/images/transparent-background.png', 'prod_link': 'https://www.zara.com/tr/tr/pamuklu-triko-polo-t-shirt-p02632302.html'}, {'prod_id': '286034106', 'name': '%100 KETEN PİLİLİ PANTOLON', 'price': '1.699,00 TL', 'image_url': 'https://static.zara.net/stdstatic/5.0.0-b.1691055472619/images/transparent-background.png', 'prod_link': 'https://www.zara.com/tr/tr/100-keten-pilili-pantolon-p04164100.html'}, {'prod_id': '286822124', 'name': 'OXFORD GÖMLEK', 'price': '1.299,00 TL', 'image_url': 'https://static.zara.net/stdstatic/5.0.0-b.1691055472619/images/transparent-background.png', 'prod_link': 'https://www.zara.com/tr/tr/oxford-gomlek-p07545306.html'}, {'prod_id': '277650295', 'name': 'HEAVY WEIGHT KISA KOLLU T-SHIRT', 'price': '659,95 TL', 'image_url': 'https://static.zara.net/stdstatic/5.0.0-b.1691055472619/images/transparent-background.png', 'prod_link': 'https://www.zara.com/tr/tr/heavy-weight-kisa-kollu-t-shirt-p00761323.html'}, {'prod_id': '286822117', 'name': 'PAMUKLU POPLİN GÖMLEK', 'price': '1.299,00 TL', 'image_url': 'https://static.zara.net/stdstatic/5.0.0-b.1691055472619/images/transparent-background.png', 'prod_link': 'https://www.zara.com/tr/tr/pamuklu-poplin-gomlek-p07545519.html'}, {'prod_id': '272981069', 'name': 'REGULAR FIT JEAN', 'price': '1.299,00 TL', 'image_url': 'https://static.zara.net/stdstatic/5.0.0-b.1691055472619/images/transparent-background.png', 'prod_link': 'https://www.zara.com/tr/tr/regular-fit-jean-p06688480.html'}, {'prod_id': '286822120', 'name': 'ŞAMBRE GÖMLEK', 'price': '1.699,00 TL', 'image_url': 'https://static.zara.net/stdstatic/5.0.0-b.1691055472619/images/transparent-background.png', 'prod_link': 'https://www.zara.com/tr/tr/sambre-gomlek-p07545518.html'}, {'prod_id': '286822123', 'name': 'ÇİZGİLİ GÖMLEK', 'price': '1.299,00 TL', 'image_url': 'https://static.zara.net/stdstatic/5.0.0-b.1691055472619/images/transparent-background.png', 'prod_link': 'https://www.zara.com/tr/tr/cizgili-gomlek-p05682351.html'}, {'prod_id': '293059781', 'name': 'ÇİZGİLİ GÖMLEK', 'price': '1.299,00 TL', 'image_url': 'https://static.zara.net/stdstatic/5.0.0-b.1691055472619/images/transparent-background.png', 'prod_link': 'https://www.zara.com/tr/tr/cizgili-gomlek-p05681350.html'}, {'prod_id': '291440912', 'name': '%100 KETEN KLASİK BLAZER', 'price': '3.399,00 TL', 'image_url': 'https://static.zara.net/stdstatic/5.0.0-b.1691055472619/images/transparent-background.png', 'prod_link': 'https://www.zara.com/tr/tr/100-keten-klasik-blazer-p01564100.html'}, {'prod_id': '286034105', 'name': '%100 KETEN KLASİK PANTOLON', 'price': '1.699,00 TL', 'image_url': 'https://static.zara.net/stdstatic/5.0.0-b.1691055472619/images/transparent-background.png', 'prod_link': 'https://www.zara.com/tr/tr/100-keten-klasik-pantolon-p01564101.html'}, {'prod_id': '286034104', 'name': 'PAMUKLU TRİKO POLO T-SHIRT', 'price': '999,95 TL', 'image_url': 'https://static.zara.net/stdstatic/5.0.0-b.1691055472619/images/transparent-background.png', 'prod_link': 'https://www.zara.com/tr/tr/pamuklu-triko-polo-t-shirt-p02632302.html'}, {'prod_id': '277650290', 'name': 'HEAVY WEIGHT KISA KOLLU T-SHIRT', 'price': '659,95 TL', 'image_url': 'https://static.zara.net/stdstatic/5.0.0-b.1691055472619/images/transparent-background.png', 'prod_link': 'https://www.zara.com/tr/tr/heavy-weight-kisa-kollu-t-shirt-p00761323.html'}, {'prod_id': '277650288', 'name': 'HEAVY WEIGHT KISA KOLLU T-SHIRT', 'price': '659,95 TL', 'image_url': 'https://static.zara.net/stdstatic/5.0.0-b.1691055472619/images/transparent-background.png', 'prod_link': 'https://www.zara.com/tr/tr/heavy-weight-kisa-kollu-t-shirt-p00761323.html'}, {'prod_id': '286822119', 'name': 'PAMUKLU POPLİN GÖMLEK', 'price': '1.299,00 TL', 'image_url': 'https://static.zara.net/stdstatic/5.0.0-b.1691055472619/images/transparent-background.png', 'prod_link': 'https://www.zara.com/tr/tr/pamuklu-poplin-gomlek-p07545519.html'}, {'prod_id': '277650292', 'name': 'HEAVY WEIGHT KISA KOLLU T-SHIRT', 'price': '659,95 TL', 'image_url': 'https://static.zara.net/stdstatic/5.0.0-b.1691055472619/images/transparent-background.png', 'prod_link': 'https://www.zara.com/tr/tr/heavy-weight-kisa-kollu-t-shirt-p00761323.html'}]\n"
     ]
    }
   ],
   "source": [
    "from bs4 import BeautifulSoup\n",
    "\n",
    "# Assuming you have the HTML content of the page source in a variable called 'page_source'\n",
    "page_source = full_page_source\n",
    "# Parse the HTML content using BeautifulSoup\n",
    "soup = BeautifulSoup(page_source, 'html.parser')\n",
    "\n",
    "# Find all <li> elements with the specified class\n",
    "items = soup.find_all('li', class_='product-grid-product')\n",
    "\n",
    "# Create a list to store the extracted data\n",
    "extracted_items = []\n",
    "\n",
    "# Loop through each item and extract relevant information\n",
    "for item in items:\n",
    "    name = item.select_one('.product-grid-product-info__name h3').text.strip()\n",
    "    price = item.select_one('.price__amount-wrapper .money-amount__main').text.strip()\n",
    "    image_url = item.select_one('.media__wrapper--media')['src']\n",
    "    prod_link = item.select_one('.product-link')['href']\n",
    "    prod_id = item['data-productid']\n",
    "\n",
    "    # Store the extracted data as a dictionary\n",
    "    extracted_items.append({\n",
    "        'prod_id': prod_id,\n",
    "        'name': name,\n",
    "        'price': price,\n",
    "        'image_url': image_url,\n",
    "        'prod_link': prod_link\n",
    "        \n",
    "    })\n",
    "\n",
    "# Print the extracted items list\n",
    "print(extracted_items)\n"
   ]
  }
 ],
 "metadata": {
  "kernelspec": {
   "display_name": "Python 3 (ipykernel)",
   "language": "python",
   "name": "python3"
  },
  "language_info": {
   "codemirror_mode": {
    "name": "ipython",
    "version": 3
   },
   "file_extension": ".py",
   "mimetype": "text/x-python",
   "name": "python",
   "nbconvert_exporter": "python",
   "pygments_lexer": "ipython3",
   "version": "3.9.12"
  }
 },
 "nbformat": 4,
 "nbformat_minor": 5
}
