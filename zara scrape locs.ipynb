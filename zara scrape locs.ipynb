{
 "cells": [
  {
   "cell_type": "code",
   "execution_count": null,
   "id": "c3dedd89",
   "metadata": {},
   "outputs": [],
   "source": []
  },
  {
   "cell_type": "code",
   "execution_count": 2,
   "id": "424b0bf1",
   "metadata": {},
   "outputs": [],
   "source": [
    "import warnings\n",
    "# Ignore all warnings\n",
    "warnings.filterwarnings(\"ignore\")\n",
    "from selenium import webdriver\n",
    "from selenium.webdriver.chrome.options import Options\n",
    "from webdriver_manager.chrome import ChromeDriverManager\n",
    "\n",
    "\n",
    "# Automatically download and set up chromedriver\n",
    "chrome_driver_path = ChromeDriverManager().install()\n",
    "\n",
    "# Create the ChromeDriver with the options\n",
    "driver = webdriver.Chrome(executable_path=chrome_driver_path)\n",
    "\n",
    "# URL of the website\n",
    "url = 'https://www.zara.com/tr/'  # URL of one of the pages will be came from main page scrape\n",
    "\n",
    "# Open the URL in the browser\n",
    "driver.get(url)\n",
    "\n",
    "# Wait for the page to load (adjust the waiting time as needed)\n",
    "driver.implicitly_wait(10)\n",
    "\n",
    "# Get the full page source\n",
    "full_page_source = driver.page_source\n",
    "\n",
    "# Do your web scraping here\n",
    "\n",
    "# Close the browser\n",
    "driver.quit()\n"
   ]
  },
  {
   "cell_type": "markdown",
   "id": "998d6415",
   "metadata": {},
   "source": [
    "there are two button should be selected, erkek ve kadın;\n",
    "><span>ALIŞVERİŞ KOŞULLARI</span></a></li></ul></nav></div></div><div class=\"home-footer__legal\"></div></div></li></ul></li></ul><ul class=\"slider-spot-universes-bar\"><li><button class=\"slider-spot-universes-bar__item slider-spot-universes-bar__item--selected\">KADIN</button></li><li><button class=\"slider-spot-universes-bar__item\">ERKEK</button></li><li><button class=\"slider-spot-universes-bar__item\">"
   ]
  }
 ],
 "metadata": {
  "kernelspec": {
   "display_name": "Python 3 (ipykernel)",
   "language": "python",
   "name": "python3"
  },
  "language_info": {
   "codemirror_mode": {
    "name": "ipython",
    "version": 3
   },
   "file_extension": ".py",
   "mimetype": "text/x-python",
   "name": "python",
   "nbconvert_exporter": "python",
   "pygments_lexer": "ipython3",
   "version": "3.9.12"
  }
 },
 "nbformat": 4,
 "nbformat_minor": 5
}
